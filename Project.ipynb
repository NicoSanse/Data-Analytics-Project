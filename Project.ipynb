{
 "cells": [
  {
   "cell_type": "markdown",
   "metadata": {},
   "source": [
    "# Data Analytics Project"
   ]
  },
  {
   "cell_type": "markdown",
   "metadata": {},
   "source": [
    "## Introduzione\n",
    "\n",
    "L'obiettivo del progetto è usare strumenti di Sentiment Analysis per scoprire le preferenze dell'elettorato americano in merito agli attuali politici americani più popolari. Per fare ciò verra utilizzato Twitter/X come fonte di dati. \n",
    "Inoltre verranno usate tecniche di Network Analysis per indagini più approfondite."
   ]
  },
  {
   "cell_type": "markdown",
   "metadata": {},
   "source": [
    "Creaimo l'istanza di Nitter"
   ]
  },
  {
   "cell_type": "code",
   "execution_count": 4,
   "metadata": {},
   "outputs": [
    {
     "name": "stderr",
     "output_type": "stream",
     "text": [
      "Testing instances:  92%|█████████▏| 71/77 [03:15<00:12,  2.10s/it]"
     ]
    },
    {
     "name": "stdout",
     "output_type": "stream",
     "text": [
      "14-May-24 15:15:06 - Certificate did not match expected hostname: nt.ggtyler.dev. Certificate: {'subject': ((('commonName', '4g.ggtyler.dev'),),), 'issuer': ((('countryName', 'US'),), (('organizationName', \"Let's Encrypt\"),), (('commonName', 'R3'),)), 'version': 3, 'serialNumber': '03A4459CE6DA31CFF555DB78FF3F35BFEA88', 'notBefore': 'May 14 10:55:44 2024 GMT', 'notAfter': 'Aug 12 10:55:43 2024 GMT', 'subjectAltName': (('DNS', '4g.ggtyler.dev'),), 'OCSP': ('http://r3.o.lencr.org',), 'caIssuers': ('http://r3.i.lencr.org/',)}\n"
     ]
    },
    {
     "name": "stderr",
     "output_type": "stream",
     "text": [
      "Testing instances:  95%|█████████▍| 73/77 [03:16<00:04,  1.25s/it]"
     ]
    },
    {
     "name": "stdout",
     "output_type": "stream",
     "text": [
      "14-May-24 15:15:08 - Certificate did not match expected hostname: nitter.uni-sonia.com. Certificate: {'subject': ((('commonName', '*.xserver.jp'),),), 'issuer': ((('countryName', 'JP'),), (('organizationName', 'CloudSecure Corporation'),), (('commonName', 'CloudSecure RSA Domain Validation Secure Server CA 2'),)), 'version': 3, 'serialNumber': 'ACA67AD2030638EE2DCE8E845B8299A6', 'notBefore': 'Mar 11 00:00:00 2024 GMT', 'notAfter': 'Apr 11 23:59:59 2025 GMT', 'subjectAltName': (('DNS', '*.xserver.jp'), ('DNS', 'xserver.jp')), 'OCSP': ('http://ocsp.sectigo.com',), 'caIssuers': ('http://crt.sectigo.com/CloudSecureRSADomainValidationSecureServerCA2.crt',)}\n"
     ]
    },
    {
     "name": "stderr",
     "output_type": "stream",
     "text": [
      "Testing instances:  99%|█████████▊| 76/77 [03:23<00:02,  2.02s/it]"
     ]
    },
    {
     "name": "stdout",
     "output_type": "stream",
     "text": [
      "14-May-24 15:15:14 - Certificate did not match expected hostname: nitter.tinfoil-hat.net. Certificate: {'subject': ((('commonName', 'jelly.tinfoil-hat.de'),),), 'issuer': ((('countryName', 'US'),), (('organizationName', \"Let's Encrypt\"),), (('commonName', 'R3'),)), 'version': 3, 'serialNumber': '03F338CE809E122DC2875C50A27A840DD7A4', 'notBefore': 'Mar 15 22:40:16 2024 GMT', 'notAfter': 'Jun 13 22:40:15 2024 GMT', 'subjectAltName': (('DNS', 'jelly.tinfoil-hat.de'),), 'OCSP': ('http://r3.o.lencr.org',), 'caIssuers': ('http://r3.i.lencr.org/',)}\n"
     ]
    },
    {
     "name": "stderr",
     "output_type": "stream",
     "text": [
      "Testing instances: 100%|██████████| 77/77 [03:24<00:00,  2.65s/it]\n"
     ]
    }
   ],
   "source": [
    "from ntscraper import Nitter\n",
    "scraper = Nitter(log_level=1, skip_instance_check=False)"
   ]
  },
  {
   "cell_type": "markdown",
   "metadata": {},
   "source": [
    "Importiamo le librerie necessarie"
   ]
  },
  {
   "cell_type": "code",
   "execution_count": 5,
   "metadata": {},
   "outputs": [],
   "source": [
    "import json\n",
    "import nltk\n",
    "import datetime as dt\n",
    "import pandas as pd\n",
    "from tqdm import tqdm"
   ]
  },
  {
   "cell_type": "markdown",
   "metadata": {},
   "source": [
    "Definiamo i nostri parametri di interesse:\n",
    " - iniziamo lo scraping a maggio del 2022\n",
    " - lo finiamo in data odierna (14 maggio al momento della stesura del codice)\n",
    " - definiamo gli hashtag\n",
    " - numero di tweet che scarichiamo per ogni intervallo di tempo (2 settimane)"
   ]
  },
  {
   "cell_type": "code",
   "execution_count": 6,
   "metadata": {},
   "outputs": [],
   "source": [
    "# temporary\n",
    "\n",
    "date_start = dt.datetime(2024, 3, 1)\n",
    "date_end = dt.datetime(2024, 3, 29)\n",
    "hashtags = []\n",
    "number_of_tweets = 50000"
   ]
  },
  {
   "cell_type": "code",
   "execution_count": 7,
   "metadata": {},
   "outputs": [
    {
     "name": "stdout",
     "output_type": "stream",
     "text": [
      "14-May-24 15:15:14 - No instance specified, using random instance https://nitter.privacydev.net\n",
      "14-May-24 15:15:15 - Fetching error: Instance has been rate limited.Use another instance or try again later.\n",
      "14-May-24 15:15:17 - No instance specified, using random instance https://nitter.privacydev.net\n",
      "14-May-24 15:15:17 - Empty page on https://nitter.privacydev.net\n"
     ]
    }
   ],
   "source": [
    "date_since = date_start\n",
    "date_until = date_since + dt.timedelta(weeks=2)\n",
    "\n",
    "while (date_until <= date_end):\n",
    "    date_since_str = date_since.strftime(\"%Y-%m-%d\")\n",
    "    date_until_str = date_until.strftime(\"%Y-%m-%d\")\n",
    "    # temporary\n",
    "    tweets = scraper.get_tweets(\"elonmusk\", mode='user', number=5, since=date_since_str, until=date_until_str)\n",
    "\n",
    "    json_name = \"Tweets in range: \" + date_since_str + \" - \" + date_until_str\n",
    "\n",
    "\n",
    "    with open(json_name, 'w') as file:\n",
    "        json.dump(tweets, file, indent=2)\n",
    "\n",
    "    date_since += dt.timedelta(weeks=2)  \n",
    "    date_until = date_since + dt.timedelta(weeks=2)"
   ]
  },
  {
   "cell_type": "code",
   "execution_count": null,
   "metadata": {},
   "outputs": [],
   "source": [
    "\n",
    "# Definisci le date di inizio e fine\n",
    "date_start = dt.datetime(2024, 5, 1)\n",
    "date_end = dt.datetime(2024, 5, 31)\n",
    "\n",
    "# Definisci la durata dell'intervallo (in questo caso 2 settimane)\n",
    "intervallo = dt.timedelta(weeks=2)\n",
    "\n",
    "# Inizializza la barra di caricamento esterna\n",
    "total_iterations = ((date_end - date_start).days // (intervallo.days)) + 1\n",
    "outer_progress_bar = tqdm(total=total_iterations, desc='Progresso Esterno')\n",
    "\n",
    "# Inizializza la data di inizio\n",
    "date_since = date_start\n",
    "\n",
    "# Ciclo fino a quando non superi la data di fine\n",
    "while (date_since <= date_end):\n",
    "    # Calcola la data di fine dell'intervallo\n",
    "    date_until = date_since + intervallo\n",
    "    \n",
    "    # Inizializza la barra di caricamento interna per l'intervallo corrente\n",
    "    inner_progress_bar = tqdm(total=100, desc='Progresso Interno', leave=False)\n",
    "    \n",
    "    # Ciclo fino a quando non superi la data di fine dell'intervallo\n",
    "    while (date_since <= date_until):\n",
    "        date_since_str = date_since.strftime(\"%Y-%m-%d\")\n",
    "        date_until_str = date_until.strftime(\"%Y-%m-%d\")\n",
    "        \n",
    "        # Esegui il codice relativo all'acquisizione dei tweet\n",
    "        # Nota: Nell'esempio, ho mantenuto un placeholder\n",
    "        tweets = None\n",
    "        \n",
    "        json_name = \"Tweets in range: \" + date_since_str + \" - \" + date_until_str\n",
    "\n",
    "        with open(json_name, 'w') as file:\n",
    "            json.dump(tweets, file, indent=2)\n",
    "        \n",
    "        # Aggiorna la barra di caricamento interna\n",
    "        inner_progress_bar.update(100)\n",
    "        \n",
    "        # Incrementa le date per l'intervallo successivo\n",
    "        date_since += intervallo\n",
    "        date_until = date_since + intervallo\n",
    "    \n",
    "    # Chiudi la barra di caricamento interna\n",
    "    inner_progress_bar.close()\n",
    "    \n",
    "    # Aggiorna la barra di caricamento esterna\n",
    "    outer_progress_bar.update(1)\n",
    "\n",
    "# Chiudi la barra di caricamento esterna\n",
    "outer_progress_bar.close()\n"
   ]
  }
 ],
 "metadata": {
  "kernelspec": {
   "display_name": "Python 3",
   "language": "python",
   "name": "python3"
  },
  "language_info": {
   "codemirror_mode": {
    "name": "ipython",
    "version": 3
   },
   "file_extension": ".py",
   "mimetype": "text/x-python",
   "name": "python",
   "nbconvert_exporter": "python",
   "pygments_lexer": "ipython3",
   "version": "3.12.2"
  }
 },
 "nbformat": 4,
 "nbformat_minor": 2
}
